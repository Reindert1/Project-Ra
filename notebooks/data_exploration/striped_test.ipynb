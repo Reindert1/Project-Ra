{
 "cells": [
  {
   "cell_type": "code",
   "execution_count": 2,
   "id": "boxed-developer",
   "metadata": {},
   "outputs": [],
   "source": [
    "import PIL\n",
    "from PIL import Image\n",
    "import cv2 as cv\n",
    "import numpy as np\n",
    "import matplotlib.pyplot as plt\n",
    "import sklearn\n",
    "import notebook_config as cfg\n",
    "PIL.Image.MAX_IMAGE_PIXELS = 268435460"
   ]
  },
  {
   "cell_type": "code",
   "execution_count": 12,
   "id": "canadian-student",
   "metadata": {},
   "outputs": [
    {
     "name": "stdout",
     "output_type": "stream",
     "text": [
      "(175, 175)\n",
      "0\n",
      "(175, 175)\n",
      "1\n",
      "(175, 175)\n",
      "2\n",
      "(175, 175)\n",
      "3\n",
      "(175, 175)\n"
     ]
    },
    {
     "data": {
      "image/png": "[encoded data removed]",
      "text/plain": [
       "<Figure size 432x288 with 4 Axes>"
      ]
     },
     "metadata": {
      "needs_background": "light"
     },
     "output_type": "display_data"
    }
   ],
   "source": [
    "img = cv.imread(f\"/commons/Themas/Thema11/Giepmans/work/tmp/squared_masked_arced_data.tif\", cv.IMREAD_GRAYSCALE)\n",
    "  \n",
    "layer = img.copy()\n",
    "print(layer.shape)\n",
    "original_size = layer.shape\n",
    "\n",
    "total_np = np.array(layer).flatten().transpose()\n",
    "total_np = total_np.reshape(total_np.shape[0], 1)\n",
    "\n",
    "#print(total_np.shape)\n",
    "  \n",
    "for i in range(4):\n",
    "    print(i)\n",
    "    plt.subplot(4, 2, i + 1)\n",
    "  \n",
    "    layer = cv.pyrDown(layer)\n",
    "    \n",
    "    lay2 = layer.copy()\n",
    "    for i in range(i + 1):\n",
    "        lay2 = cv.pyrUp(lay2)\n",
    "    \n",
    "    lay2 = cv.resize(lay2, original_size, interpolation = cv.INTER_AREA)\n",
    "  \n",
    "    plt.imshow(lay2)\n",
    "    #print(lay2.shape)\n",
    "    print(lay2.shape)\n",
    "    \n",
    "    total_np = np.append(total_np, np.expand_dims(lay2.flatten().transpose(), axis=1), axis=1)\n",
    "    \n",
    "      \n",
    "im_lay2 = Image.fromarray(lay2)\n",
    "im_lay2.save(\"low_poly.tif\")"
   ]
  }
 ],
 "metadata": {
  "kernelspec": {
   "display_name": "Python 3 (ipykernel)",
   "language": "python",
   "name": "python3"
  },
  "language_info": {
   "codemirror_mode": {
    "name": "ipython",
    "version": 3
   },
   "file_extension": ".py",
   "mimetype": "text/x-python",
   "name": "python",
   "nbconvert_exporter": "python",
   "pygments_lexer": "ipython3",
   "version": "3.9.2"
  }
 },
 "nbformat": 4,
 "nbformat_minor": 5
}
