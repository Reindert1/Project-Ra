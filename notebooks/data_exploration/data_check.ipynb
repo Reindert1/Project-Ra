{
 "cells": [
  {
   "cell_type": "code",
   "execution_count": 2,
   "id": "known-broadcast",
   "metadata": {},
   "outputs": [],
   "source": [
    "import h5py"
   ]
  },
  {
   "cell_type": "code",
   "execution_count": 35,
   "id": "serial-earthquake",
   "metadata": {},
   "outputs": [],
   "source": [
    "# hdf5_file = \"/local-fs/bachelor-students/2021-2022/Thema12/ra_data/stripes4/dataset/train.h5py\"\n",
    "# f = h5py.File(hdf5_file, 'r')\n",
    "# # x_train = f.get('x_train')\n",
    "# # y_train = f.get('y_train')\n",
    "# x_val = f.get('x_test')\n",
    "# y_val = f.get('y_test')"
   ]
  },
  {
   "cell_type": "code",
   "execution_count": 1,
   "id": "narrow-defendant",
   "metadata": {},
   "outputs": [],
   "source": [
    "import PIL\n",
    "from PIL import Image\n",
    "import cv2 as cv\n",
    "import numpy as np\n",
    "import matplotlib.pyplot as plt\n",
    "import sklearn\n",
    "import notebook_config as cfg"
   ]
  },
  {
   "cell_type": "code",
   "execution_count": 3,
   "id": "minus-mississippi",
   "metadata": {},
   "outputs": [],
   "source": [
    "img = cv.imread(f\"/commons/Themas/Thema11/Giepmans/work/tmp/full_white.tif\", cv.IMREAD_GRAYSCALE)"
   ]
  },
  {
   "cell_type": "code",
   "execution_count": 4,
   "id": "herbal-neighbor",
   "metadata": {},
   "outputs": [
    {
     "name": "stdout",
     "output_type": "stream",
     "text": [
      "[255]\n"
     ]
    }
   ],
   "source": [
    "print(np.unique(img))"
   ]
  },
  {
   "cell_type": "code",
   "execution_count": 10,
   "id": "behavioral-execution",
   "metadata": {},
   "outputs": [
    {
     "name": "stdout",
     "output_type": "stream",
     "text": [
      "(5, 6)\n",
      "(48, 8)\n",
      "[[0. 0. 0. 0. 0. 0. 0. 0.]\n",
      " [0. 1. 1. 1. 1. 1. 1. 0.]\n",
      " [0. 1. 1. 1. 1. 1. 1. 0.]\n",
      " [0. 1. 1. 1. 1. 1. 1. 0.]\n",
      " [0. 1. 1. 1. 1. 1. 1. 0.]\n",
      " [0. 1. 1. 1. 1. 1. 1. 0.]\n",
      " [0. 0. 0. 0. 0. 0. 0. 0.]]\n",
      "(64, 8, 64, 8)\n"
     ]
    }
   ],
   "source": []
  },
  {
   "cell_type": "code",
   "execution_count": 23,
   "id": "ecological-cruise",
   "metadata": {},
   "outputs": [],
   "source": [
    "def window(array, window_size=(3,3)):\n",
    "    x_size = array.shape[0]\n",
    "    y_size = array.shape[1]\n",
    "    \n",
    "    horizontal_pad = window_size[0] // 2\n",
    "    vertical_pad = window_size[1] // 2\n",
    "    array = np.pad(array, [(horizontal_pad,vertical_pad), (horizontal_pad,vertical_pad)],\n",
    "               mode = 'constant', constant_values = 0)\n",
    "    print(array)\n",
    "    print(array.strides)\n",
    "    strides = array.strides * 2\n",
    "    print(strides)\n",
    "    \n",
    "    #x_size = (array.shape[0] - window_size[0]) + 1\n",
    "    #y_size = (array.shape[1] - window_size[1]) + 1\n",
    "#     x_size = array.shape[0]\n",
    "#     y_size = array.shape[1]\n",
    "    shape = (x_size, y_size) + window_size\n",
    "    return np.lib.stride_tricks.as_strided(array, shape, strides)"
   ]
  },
  {
   "cell_type": "code",
   "execution_count": 24,
   "id": "complicated-general",
   "metadata": {},
   "outputs": [
    {
     "name": "stdout",
     "output_type": "stream",
     "text": [
      "(326, 652)\n",
      "(652, 1)\n",
      "[[  0   0   0 ...   0   0   0]\n",
      " [  0 255 255 ... 255 255   0]\n",
      " [  0 255 255 ... 255 255   0]\n",
      " ...\n",
      " [  0 255 255 ... 255 255   0]\n",
      " [  0 255 255 ... 255 255   0]\n",
      " [  0   0   0 ...   0   0   0]]\n",
      "(654, 1)\n",
      "(654, 1, 654, 1)\n"
     ]
    }
   ],
   "source": [
    "print(img.shape)\n",
    "print(img.strides)\n",
    "windows = window(img)"
   ]
  },
  {
   "cell_type": "code",
   "execution_count": 32,
   "id": "prompt-warrant",
   "metadata": {},
   "outputs": [
    {
     "name": "stdout",
     "output_type": "stream",
     "text": [
      "(6, 6)\n",
      "(48, 8)\n",
      "[[0. 0. 0. 0. 0. 0. 0. 0. 0. 0.]\n",
      " [0. 0. 0. 0. 0. 0. 0. 0. 0. 0.]\n",
      " [0. 0. 1. 1. 1. 1. 1. 1. 0. 0.]\n",
      " [0. 0. 1. 1. 1. 1. 1. 1. 0. 0.]\n",
      " [0. 0. 1. 1. 1. 1. 1. 1. 0. 0.]\n",
      " [0. 0. 1. 1. 1. 1. 1. 1. 0. 0.]\n",
      " [0. 0. 1. 1. 1. 1. 1. 1. 0. 0.]\n",
      " [0. 0. 1. 1. 1. 1. 1. 1. 0. 0.]\n",
      " [0. 0. 0. 0. 0. 0. 0. 0. 0. 0.]\n",
      " [0. 0. 0. 0. 0. 0. 0. 0. 0. 0.]]\n",
      "(80, 8)\n",
      "(80, 8, 80, 8)\n"
     ]
    }
   ],
   "source": [
    "a = np.array([[ 1.,  1.,  1., 1., 1., 1.],\n",
    "              [ 1.,  1.,  1., 1., 1., 1.],\n",
    "              [ 1.,  1.,  1., 1., 1., 1.],\n",
    "              [ 1.,  1.,  1., 1., 1., 1.],\n",
    "              [ 1.,  1.,  1., 1., 1., 1.],\n",
    "             [ 1.,  1.,  1., 1., 1., 1.]])\n",
    "print(a.shape)\n",
    "print(a.strides)\n",
    "\n",
    "\n",
    "windows = window(a, (5,5))"
   ]
  },
  {
   "cell_type": "code",
   "execution_count": 26,
   "id": "quality-oregon",
   "metadata": {},
   "outputs": [],
   "source": [
    "def windows_to_dataset(windows):\n",
    "    array = None\n",
    "    \n",
    "    for i in range(windows.shape[0]):\n",
    "        for b in range(windows.shape[1]):\n",
    "            if array is None:\n",
    "                array = windows[i, b,:,:].flatten()\n",
    "                array = np.expand_dims(array, axis=0)\n",
    "                #print(array)\n",
    "                #print(array.shape)\n",
    "            else:\n",
    "                #print( windows[i, b,:,:].flatten())\n",
    "                array = np.append(array, np.expand_dims(windows[i, b,:,:].flatten(), axis=0), axis=0)\n",
    "            #print(windows[i, b,:,:])\n",
    "            #print(windows[i, b,:,:].flatten())\n",
    "    return array"
   ]
  },
  {
   "cell_type": "code",
   "execution_count": 33,
   "id": "pursuant-sitting",
   "metadata": {},
   "outputs": [
    {
     "name": "stdout",
     "output_type": "stream",
     "text": [
      "(36, 25)\n",
      "(6, 6, 5, 5)\n",
      "[[0. 0. 0. 0. 0. 0. 0. 0. 0. 0. 0. 0. 1. 1. 1. 0. 0. 1. 1. 1. 0. 0. 1. 1.\n",
      "  1.]\n",
      " [0. 0. 0. 0. 0. 0. 0. 0. 0. 0. 0. 1. 1. 1. 1. 0. 1. 1. 1. 1. 0. 1. 1. 1.\n",
      "  1.]\n",
      " [0. 0. 0. 0. 0. 0. 0. 0. 0. 0. 1. 1. 1. 1. 1. 1. 1. 1. 1. 1. 1. 1. 1. 1.\n",
      "  1.]\n",
      " [0. 0. 0. 0. 0. 0. 0. 0. 0. 0. 1. 1. 1. 1. 1. 1. 1. 1. 1. 1. 1. 1. 1. 1.\n",
      "  1.]\n",
      " [0. 0. 0. 0. 0. 0. 0. 0. 0. 0. 1. 1. 1. 1. 0. 1. 1. 1. 1. 0. 1. 1. 1. 1.\n",
      "  0.]\n",
      " [0. 0. 0. 0. 0. 0. 0. 0. 0. 0. 1. 1. 1. 0. 0. 1. 1. 1. 0. 0. 1. 1. 1. 0.\n",
      "  0.]\n",
      " [0. 0. 0. 0. 0. 0. 0. 1. 1. 1. 0. 0. 1. 1. 1. 0. 0. 1. 1. 1. 0. 0. 1. 1.\n",
      "  1.]\n",
      " [0. 0. 0. 0. 0. 0. 1. 1. 1. 1. 0. 1. 1. 1. 1. 0. 1. 1. 1. 1. 0. 1. 1. 1.\n",
      "  1.]\n",
      " [0. 0. 0. 0. 0. 1. 1. 1. 1. 1. 1. 1. 1. 1. 1. 1. 1. 1. 1. 1. 1. 1. 1. 1.\n",
      "  1.]\n",
      " [0. 0. 0. 0. 0. 1. 1. 1. 1. 1. 1. 1. 1. 1. 1. 1. 1. 1. 1. 1. 1. 1. 1. 1.\n",
      "  1.]\n",
      " [0. 0. 0. 0. 0. 1. 1. 1. 1. 0. 1. 1. 1. 1. 0. 1. 1. 1. 1. 0. 1. 1. 1. 1.\n",
      "  0.]\n",
      " [0. 0. 0. 0. 0. 1. 1. 1. 0. 0. 1. 1. 1. 0. 0. 1. 1. 1. 0. 0. 1. 1. 1. 0.\n",
      "  0.]\n",
      " [0. 0. 1. 1. 1. 0. 0. 1. 1. 1. 0. 0. 1. 1. 1. 0. 0. 1. 1. 1. 0. 0. 1. 1.\n",
      "  1.]\n",
      " [0. 1. 1. 1. 1. 0. 1. 1. 1. 1. 0. 1. 1. 1. 1. 0. 1. 1. 1. 1. 0. 1. 1. 1.\n",
      "  1.]\n",
      " [1. 1. 1. 1. 1. 1. 1. 1. 1. 1. 1. 1. 1. 1. 1. 1. 1. 1. 1. 1. 1. 1. 1. 1.\n",
      "  1.]\n",
      " [1. 1. 1. 1. 1. 1. 1. 1. 1. 1. 1. 1. 1. 1. 1. 1. 1. 1. 1. 1. 1. 1. 1. 1.\n",
      "  1.]\n",
      " [1. 1. 1. 1. 0. 1. 1. 1. 1. 0. 1. 1. 1. 1. 0. 1. 1. 1. 1. 0. 1. 1. 1. 1.\n",
      "  0.]\n",
      " [1. 1. 1. 0. 0. 1. 1. 1. 0. 0. 1. 1. 1. 0. 0. 1. 1. 1. 0. 0. 1. 1. 1. 0.\n",
      "  0.]\n",
      " [0. 0. 1. 1. 1. 0. 0. 1. 1. 1. 0. 0. 1. 1. 1. 0. 0. 1. 1. 1. 0. 0. 1. 1.\n",
      "  1.]\n",
      " [0. 1. 1. 1. 1. 0. 1. 1. 1. 1. 0. 1. 1. 1. 1. 0. 1. 1. 1. 1. 0. 1. 1. 1.\n",
      "  1.]\n",
      " [1. 1. 1. 1. 1. 1. 1. 1. 1. 1. 1. 1. 1. 1. 1. 1. 1. 1. 1. 1. 1. 1. 1. 1.\n",
      "  1.]\n",
      " [1. 1. 1. 1. 1. 1. 1. 1. 1. 1. 1. 1. 1. 1. 1. 1. 1. 1. 1. 1. 1. 1. 1. 1.\n",
      "  1.]\n",
      " [1. 1. 1. 1. 0. 1. 1. 1. 1. 0. 1. 1. 1. 1. 0. 1. 1. 1. 1. 0. 1. 1. 1. 1.\n",
      "  0.]\n",
      " [1. 1. 1. 0. 0. 1. 1. 1. 0. 0. 1. 1. 1. 0. 0. 1. 1. 1. 0. 0. 1. 1. 1. 0.\n",
      "  0.]\n",
      " [0. 0. 1. 1. 1. 0. 0. 1. 1. 1. 0. 0. 1. 1. 1. 0. 0. 1. 1. 1. 0. 0. 0. 0.\n",
      "  0.]\n",
      " [0. 1. 1. 1. 1. 0. 1. 1. 1. 1. 0. 1. 1. 1. 1. 0. 1. 1. 1. 1. 0. 0. 0. 0.\n",
      "  0.]\n",
      " [1. 1. 1. 1. 1. 1. 1. 1. 1. 1. 1. 1. 1. 1. 1. 1. 1. 1. 1. 1. 0. 0. 0. 0.\n",
      "  0.]\n",
      " [1. 1. 1. 1. 1. 1. 1. 1. 1. 1. 1. 1. 1. 1. 1. 1. 1. 1. 1. 1. 0. 0. 0. 0.\n",
      "  0.]\n",
      " [1. 1. 1. 1. 0. 1. 1. 1. 1. 0. 1. 1. 1. 1. 0. 1. 1. 1. 1. 0. 0. 0. 0. 0.\n",
      "  0.]\n",
      " [1. 1. 1. 0. 0. 1. 1. 1. 0. 0. 1. 1. 1. 0. 0. 1. 1. 1. 0. 0. 0. 0. 0. 0.\n",
      "  0.]\n",
      " [0. 0. 1. 1. 1. 0. 0. 1. 1. 1. 0. 0. 1. 1. 1. 0. 0. 0. 0. 0. 0. 0. 0. 0.\n",
      "  0.]\n",
      " [0. 1. 1. 1. 1. 0. 1. 1. 1. 1. 0. 1. 1. 1. 1. 0. 0. 0. 0. 0. 0. 0. 0. 0.\n",
      "  0.]\n",
      " [1. 1. 1. 1. 1. 1. 1. 1. 1. 1. 1. 1. 1. 1. 1. 0. 0. 0. 0. 0. 0. 0. 0. 0.\n",
      "  0.]\n",
      " [1. 1. 1. 1. 1. 1. 1. 1. 1. 1. 1. 1. 1. 1. 1. 0. 0. 0. 0. 0. 0. 0. 0. 0.\n",
      "  0.]\n",
      " [1. 1. 1. 1. 0. 1. 1. 1. 1. 0. 1. 1. 1. 1. 0. 0. 0. 0. 0. 0. 0. 0. 0. 0.\n",
      "  0.]\n",
      " [1. 1. 1. 0. 0. 1. 1. 1. 0. 0. 1. 1. 1. 0. 0. 0. 0. 0. 0. 0. 0. 0. 0. 0.\n",
      "  0.]]\n"
     ]
    }
   ],
   "source": [
    "arr = windows_to_dataset(windows)\n",
    "print(arr.shape)\n",
    "\n",
    "print(windows.shape)\n",
    "axis0 = windows.shape[0] * windows.shape[1]\n",
    "axis1= windows.shape[2] * windows.shape[3]\n",
    "arr2 = windows.reshape(axis0, axis1)\n",
    "print(arr2)"
   ]
  },
  {
   "cell_type": "code",
   "execution_count": 34,
   "id": "round-copyright",
   "metadata": {},
   "outputs": [
    {
     "name": "stdout",
     "output_type": "stream",
     "text": [
      "[1. 1. 1. 0. 0. 1. 1. 1. 0. 0. 1. 1. 1. 0. 0. 0. 0. 0. 0. 0. 0. 0. 0. 0.\n",
      " 0.]\n"
     ]
    }
   ],
   "source": [
    "print(arr2[-1])"
   ]
  }
 ],
 "metadata": {
  "kernelspec": {
   "display_name": "Python 3 (ipykernel)",
   "language": "python",
   "name": "python3"
  },
  "language_info": {
   "codemirror_mode": {
    "name": "ipython",
    "version": 3
   },
   "file_extension": ".py",
   "mimetype": "text/x-python",
   "name": "python",
   "nbconvert_exporter": "python",
   "pygments_lexer": "ipython3",
   "version": "3.9.2"
  }
 },
 "nbformat": 4,
 "nbformat_minor": 5
}
