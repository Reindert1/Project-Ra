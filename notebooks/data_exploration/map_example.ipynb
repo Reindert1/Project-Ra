{
 "cells": [
  {
   "cell_type": "markdown",
   "id": "documentary-beginning",
   "metadata": {},
   "source": [
    "# Maps data"
   ]
  },
  {
   "cell_type": "code",
   "execution_count": 1,
   "id": "cooperative-institute",
   "metadata": {},
   "outputs": [],
   "source": [
    "import PIL\n",
    "from PIL import Image\n",
    "import cv2 as cv\n",
    "import numpy as np\n",
    "import matplotlib.pyplot as plt\n",
    "import sklearn"
   ]
  },
  {
   "cell_type": "markdown",
   "id": "cutting-floating",
   "metadata": {},
   "source": []
  },
  {
   "cell_type": "code",
   "execution_count": 2,
   "id": "developing-donna",
   "metadata": {},
   "outputs": [
    {
     "name": "stdout",
     "output_type": "stream",
     "text": [
      "TIFF\n",
      "(16384, 16384)\n",
      "RGB\n",
      "TIFF\n",
      "(16384, 16384)\n",
      "L\n"
     ]
    }
   ],
   "source": [
    "PIL.Image.MAX_IMAGE_PIXELS = 268435460\n",
    "classifier = Image.open(\"/commons/Themas/Thema11/Giepmans/Maps_topography.tif\")\n",
    "data = Image.open(\"/commons/Themas/Thema11/Giepmans/Maps_satelliteBW.tif\")\n",
    "print(classifier.format)\n",
    "\n",
    "print(classifier.size)\n",
    "\n",
    "print(classifier.mode)\n",
    "\n",
    "print(data.format)\n",
    "\n",
    "print(data.size)\n",
    "\n",
    "print(data.mode)\n",
    "\n",
    "\n",
    "# show the image\n",
    "\n",
    "#image.show()\n",
    "\n",
    "#data = np.asarray(data)\n",
    "#im2 = cv.pyrDown(data)\n",
    "#im2 = cv.pyrUp(im2)\n",
    "#im2 = Image.fromarray(im2)\n",
    "#print(im2.size)\n",
    "#im2.save('low_poly.jpg')\n"
   ]
  },
  {
   "cell_type": "markdown",
   "id": "clean-utilization",
   "metadata": {},
   "source": [
    "As shown above, the classifier is a TIFF file with dimensions 16384 x 16384, and has RGB as its mode. This means the image is 3 dimensional, the 3rd dimension being the color channels.\n",
    "The data itself is also a TIFF file with dimension 16384 x 16384. This image however has mode L. This means every pixel is encoded in 8-bits. This means they have a value between 0 and 255, this value corrosponds to a shade between black and white."
   ]
  },
  {
   "cell_type": "code",
   "execution_count": 67,
   "id": "paperback-mitchell",
   "metadata": {},
   "outputs": [
    {
     "name": "stdout",
     "output_type": "stream",
     "text": [
      "(268435456, 1)\n",
      "(16384, 16384)\n",
      "(16384, 16384)\n",
      "(16384, 16384)\n",
      "(16384, 16384)\n"
     ]
    },
    {
     "data": {
      "image/png": "[encoded data removed]",
      "text/plain": [
       "<Figure size 432x288 with 4 Axes>"
      ]
     },
     "metadata": {
      "needs_background": "light"
     },
     "output_type": "display_data"
    }
   ],
   "source": [
    "img = cv.imread(\"/commons/Themas/Thema11/Giepmans/Maps_satelliteBW.tif\", cv.IMREAD_GRAYSCALE)\n",
    "#img = cv.cvtColor(img, cv.COLOR_BGR2GRAY)\n",
    "  \n",
    "layer = img.copy()\n",
    "\n",
    "total_np = np.array(layer).flatten().transpose()\n",
    "total_np = total_np.reshape(total_np.shape[0], 1)\n",
    "\n",
    "print(total_np.shape)\n",
    "  \n",
    "for i in range(4):\n",
    "    plt.subplot(4, 2, i + 1)\n",
    "  \n",
    "    # using pyrDown() function\n",
    "    layer = cv.pyrDown(layer)\n",
    "    \n",
    "    lay2 = layer.copy()\n",
    "    for i in range(i + 1):\n",
    "        lay2 = cv.pyrUp(lay2)\n",
    "  \n",
    "    plt.imshow(lay2)\n",
    "    print(lay2.shape)\n",
    "    \n",
    "    #total_np = np.dstack((total_np, lay2))\n",
    "    total_np = np.append(total_np, np.expand_dims(lay2.flatten().transpose(), axis=1), axis=1)\n",
    "    \n",
    "    #print(lay2.shape)\n",
    "    #cv.imshow(\"str(i)\", layer)\n",
    "    #cv.waitKey(0)\n",
    "      \n",
    "#cv.destroyAllWindows()\n",
    "im_lay2 = Image.fromarray(lay2)\n",
    "im_lay2.save(\"low_poly.tif\")\n",
    "#np.save(\"4x_gausian.npy\", total_np)"
   ]
  },
  {
   "cell_type": "code",
   "execution_count": null,
   "id": "sought-prompt",
   "metadata": {},
   "outputs": [],
   "source": [
    "for (i, resized) in enumerate(pyramid_gaussian(img, downscale=2)):\n",
    "    if resized.shape[0] < 30 or resized.shape[1] < 30:\n",
    "        break\n",
    "        \n",
    "    #cv2.imshow(\"Layer {}\".format(i + 1), resized)\n",
    "    #cv2.waitKey(0)"
   ]
  },
  {
   "cell_type": "code",
   "execution_count": 12,
   "id": "moderate-success",
   "metadata": {},
   "outputs": [],
   "source": [
    "image_array = np.array(data)"
   ]
  },
  {
   "cell_type": "code",
   "execution_count": 59,
   "id": "prospective-passion",
   "metadata": {},
   "outputs": [
    {
     "name": "stdout",
     "output_type": "stream",
     "text": [
      "(16384, 16384)\n"
     ]
    }
   ],
   "source": [
    "print(image_array.shape)"
   ]
  },
  {
   "cell_type": "code",
   "execution_count": 68,
   "id": "strange-serum",
   "metadata": {},
   "outputs": [
    {
     "name": "stdout",
     "output_type": "stream",
     "text": [
      "(268435456, 5)\n"
     ]
    }
   ],
   "source": [
    "print(total_np.shape)"
   ]
  },
  {
   "cell_type": "code",
   "execution_count": 69,
   "id": "featured-purse",
   "metadata": {},
   "outputs": [
    {
     "name": "stdout",
     "output_type": "stream",
     "text": [
      "(16384, 16384)\n"
     ]
    },
    {
     "data": {
      "text/plain": [
       "array([[0, 0, 0, ..., 0, 0, 0],\n",
       "       [0, 0, 0, ..., 0, 0, 0],\n",
       "       [0, 0, 0, ..., 0, 0, 0],\n",
       "       [0, 0, 0, ..., 0, 0, 0],\n",
       "       [0, 0, 0, ..., 0, 0, 0]], dtype=uint8)"
      ]
     },
     "metadata": {},
     "output_type": "display_data"
    },
    {
     "data": {
      "text/plain": [
       "array([0, 1, 2, 3, 4, 5], dtype=uint8)"
      ]
     },
     "metadata": {},
     "output_type": "display_data"
    }
   ],
   "source": [
    "img = cv.imread(\"/commons/Themas/Thema11/Giepmans/Maps_labels.tif\")\n",
    "  \n",
    "#layer = img.copy()\n",
    "\n",
    "#total_np = np.array(layer)\n",
    "#print(img.shape)\n",
    "\n",
    "classifier = Image.open(\"/commons/Themas/Thema11/Giepmans/Maps_labels.tif\")\n",
    "classifier = np.array(classifier)\n",
    "print(classifier.shape)\n",
    "\n",
    "display(classifier[0:5])\n",
    "display(np.unique(classifier))\n",
    "\n",
    "#total_np = np.dstack((total_np, classifier))\n",
    "classifier = np.expand_dims(classifier.flatten().transpose(), axis=1)\n",
    "total_np = np.append(total_np, classifier, axis=1)"
   ]
  },
  {
   "cell_type": "markdown",
   "id": "bridal-wellington",
   "metadata": {},
   "source": [
    "In the above arrays we can see that the first few values of the classifier array are all 0. This means that on the comblete dataset we'll need to remove the instances that have this label, seeing as 0 stands for no label.\n",
    "In the bottom array we can see that the classifier image contains labels from 0 to 5. This means we won't have to change the encoding of the labels before training."
   ]
  },
  {
   "cell_type": "code",
   "execution_count": 71,
   "id": "aquatic-venue",
   "metadata": {},
   "outputs": [
    {
     "name": "stdout",
     "output_type": "stream",
     "text": [
      "(268435456, 6)\n",
      "[0 1 2 3 4 5]\n",
      "[0 1 2 3 4 5]\n"
     ]
    }
   ],
   "source": [
    "print(total_np.shape)\n",
    "# print(np.unique(total_np[:,:, 5]))\n",
    "# print(np.unique(total_np[:,:, -1]))\n",
    "print(np.unique(total_np[:, 5]))\n",
    "print(np.unique(total_np[:, -1]))"
   ]
  },
  {
   "cell_type": "markdown",
   "id": "brave-paradise",
   "metadata": {},
   "source": [
    "This code is simpy to display that the classification layer here is layer 5, which is the same as -1."
   ]
  },
  {
   "cell_type": "code",
   "execution_count": 57,
   "id": "invalid-restriction",
   "metadata": {},
   "outputs": [
    {
     "name": "stdout",
     "output_type": "stream",
     "text": [
      "[[ 24  24  24 ...  31  31  31]\n",
      " [ 31   0  31 ...   1  69  69]\n",
      " [ 69  69  68 ...  77  83   0]\n",
      " [ 33  29  28 ... 131 128 133]\n",
      " [126   4 148 ...   0  76  76]\n",
      " [ 76  73  70 ...  34  36   0]]\n"
     ]
    }
   ],
   "source": [
    "#print(total_np.reshape(total_np.shape[2], -1))"
   ]
  },
  {
   "cell_type": "code",
   "execution_count": 82,
   "id": "reported-pleasure",
   "metadata": {},
   "outputs": [
    {
     "name": "stdout",
     "output_type": "stream",
     "text": [
      "[40 26 23 34 36  0]\n"
     ]
    }
   ],
   "source": [
    "print(total_np[268435455,:])\n",
    "np.save(\"total_classification.npy\", total_np)"
   ]
  }
 ],
 "metadata": {
  "kernelspec": {
   "display_name": "Python 3",
   "language": "python",
   "name": "python3"
  },
  "language_info": {
   "codemirror_mode": {
    "name": "ipython",
    "version": 3
   },
   "file_extension": ".py",
   "mimetype": "text/x-python",
   "name": "python",
   "nbconvert_exporter": "python",
   "pygments_lexer": "ipython3",
   "version": "3.9.2"
  }
 },
 "nbformat": 4,
 "nbformat_minor": 5
}
