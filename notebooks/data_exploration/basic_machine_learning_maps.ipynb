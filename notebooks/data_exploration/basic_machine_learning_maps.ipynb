{
 "cells": [
  {
   "cell_type": "markdown",
   "id": "french-baking",
   "metadata": {},
   "source": [
    "# Basic machine learning on maps data"
   ]
  },
  {
   "cell_type": "code",
   "execution_count": 1,
   "id": "limited-individual",
   "metadata": {},
   "outputs": [],
   "source": [
    "import numpy as np\n",
    "from sklearn.model_selection import train_test_split\n",
    "from sklearn.naive_bayes import GaussianNB, MultinomialNB\n",
    "from sklearn import svm\n",
    "from sklearn import metrics\n",
    "from sklearn.model_selection import KFold, cross_val_score\n",
    "from joblib import parallel_backend\n",
    "from sklearn.tree import DecisionTreeClassifier"
   ]
  },
  {
   "cell_type": "code",
   "execution_count": 2,
   "id": "requested-minneapolis",
   "metadata": {},
   "outputs": [],
   "source": [
    "data_array = np.load(\"total_classification.npy\", allow_pickle=True)\n",
    "#print(data_array.shape)\n",
    "x_train, x_val, y_train, y_val = train_test_split(data_array[:, :-1], data_array[:, -1], random_state=0)"
   ]
  },
  {
   "cell_type": "code",
   "execution_count": null,
   "id": "biblical-separate",
   "metadata": {},
   "outputs": [],
   "source": [
    "x_train.shape"
   ]
  },
  {
   "cell_type": "code",
   "execution_count": null,
   "id": "compatible-disabled",
   "metadata": {},
   "outputs": [],
   "source": [
    "# gnb = GaussianNB()\n",
    "\n",
    "# y_pred = gnb.fit(x_train, y_train).predict(x_val)\n",
    "# print(\"Number of mislabeled points out of a total %d points : %d\"\n",
    "#       % (x_val.shape[0], (y_val != y_pred).sum()))"
   ]
  },
  {
   "cell_type": "code",
   "execution_count": null,
   "id": "9774ccfe",
   "metadata": {},
   "outputs": [],
   "source": [
    "# with parallel_backend('threading', n_jobs=-1):\n",
    "#     clf = svm.SVC(kernel='linear') \n",
    "\n",
    "#     clf.fit(x_train, y_train)\n",
    "\n",
    "#     y_pred = clf.predict(x_val)\n",
    "#     print(\"Accuracy:\", metrics.accuracy_score(y_val, y_pred))"
   ]
  },
  {
   "cell_type": "code",
   "execution_count": null,
   "id": "888745e9",
   "metadata": {},
   "outputs": [],
   "source": [
    "# mnb = MultinomialNB()\n",
    "# classes = np.unique(data_array[:,-1])\n",
    "\n",
    "# with parallel_backend('threading', n_jobs=-1):\n",
    "#     mnb = MultinomialNB()\n",
    "\n",
    "#     #mnb.partial_fit(x_train, y_train, classes)\n",
    "#     mnb.fit(x_train, y_train)\n",
    "\n",
    "#     y_pred = mnb.predict(x_val)\n",
    "#     print(\"Accuracy:\", metrics.accuracy_score(y_val, y_pred))"
   ]
  },
  {
   "cell_type": "code",
   "execution_count": null,
   "id": "0fd1e8f6",
   "metadata": {},
   "outputs": [],
   "source": [
    "# print(y_train[1])"
   ]
  },
  {
   "cell_type": "code",
   "execution_count": 3,
   "id": "7aa56d46",
   "metadata": {},
   "outputs": [
    {
     "name": "stdout",
     "output_type": "stream",
     "text": [
      "GaussianNB accurary: 0.5331072533327825\n",
      "DecisionTreeClassifier accurary: 0.6233615735277726\n"
     ]
    }
   ],
   "source": [
    "def test_trainer(name_model, model, data):\n",
    "        with parallel_backend('threading', n_jobs=-1):\n",
    "                cross_fold = KFold(n_splits=4, random_state=1, shuffle=True)\n",
    "                accuracy = cross_val_score(model, data[\"x_train\"], data[\"y_train\"], cv=cross_fold, scoring='accuracy').mean()\n",
    "                print(f\"{name_model} accurary: {accuracy}\")\n",
    "\n",
    "models = {#'MultinomalNB': MultinomialNB(),\n",
    "        'GaussianNB': GaussianNB(),\n",
    "        'DecisionTreeClassifier': DecisionTreeClassifier()}\n",
    "\n",
    "data = {\"x_train\": data_array[:, :-1],\n",
    "        \"y_train\": data_array[:, -1]}\n",
    "\n",
    "for name, model in models.items():\n",
    "    test_trainer(name, model, data)"
   ]
  }
 ],
 "metadata": {
  "kernelspec": {
   "display_name": "Python 3",
   "language": "python",
   "name": "python3"
  },
  "language_info": {
   "codemirror_mode": {
    "name": "ipython",
    "version": 3
   },
   "file_extension": ".py",
   "mimetype": "text/x-python",
   "name": "python",
   "nbconvert_exporter": "python",
   "pygments_lexer": "ipython3",
   "version": "3.9.1"
  }
 },
 "nbformat": 4,
 "nbformat_minor": 5
}
