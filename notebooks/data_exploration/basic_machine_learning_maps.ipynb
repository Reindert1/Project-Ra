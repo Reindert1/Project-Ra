{
 "cells": [
  {
   "cell_type": "markdown",
   "id": "french-baking",
   "metadata": {},
   "source": [
    "# Basic machine learning on maps data"
   ]
  },
  {
   "cell_type": "code",
   "execution_count": 1,
   "id": "limited-individual",
   "metadata": {},
   "outputs": [],
   "source": [
    "import numpy as np\n",
    "from sklearn.model_selection import train_test_split\n",
    "from sklearn.naive_bayes import GaussianNB"
   ]
  },
  {
   "cell_type": "code",
   "execution_count": 2,
   "id": "requested-minneapolis",
   "metadata": {},
   "outputs": [],
   "source": [
    "data_array = np.load(\"total_classification.npy\", allow_pickle=True)\n",
    "#print(data_array.shape)\n",
    "x_train, x_val, y_train, y_val = train_test_split(data_array[:, :-1], data_array[:, 1], random_state=0)"
   ]
  },
  {
   "cell_type": "code",
   "execution_count": 3,
   "id": "biblical-separate",
   "metadata": {},
   "outputs": [
    {
     "data": {
      "text/plain": [
       "(66275212, 5)"
      ]
     },
     "execution_count": 3,
     "metadata": {},
     "output_type": "execute_result"
    }
   ],
   "source": [
    "x_train.shape"
   ]
  },
  {
   "cell_type": "code",
   "execution_count": 4,
   "id": "compatible-disabled",
   "metadata": {},
   "outputs": [],
   "source": [
    "# gnb = GaussianNB()\n",
    "# y_pred = gnb.fit(x_train, y_train).predict(x_val)\n",
    "# print(\"Number of mislabeled points out of a total %d points : %d\"\n",
    "#       % (x_val.shape[0], (y_val != y_pred).sum()))"
   ]
  }
 ],
 "metadata": {
  "kernelspec": {
   "display_name": "Python 3",
   "language": "python",
   "name": "python3"
  },
  "language_info": {
   "codemirror_mode": {
    "name": "ipython",
    "version": 3
   },
   "file_extension": ".py",
   "mimetype": "text/x-python",
   "name": "python",
   "nbconvert_exporter": "python",
   "pygments_lexer": "ipython3",
   "version": "3.9.2"
  }
 },
 "nbformat": 4,
 "nbformat_minor": 5
}
