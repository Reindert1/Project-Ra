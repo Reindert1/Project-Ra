{
 "cells": [
  {
   "cell_type": "code",
   "execution_count": 3,
   "metadata": {
    "pycharm": {
     "name": "#%%\n"
    }
   },
   "outputs": [],
   "source": [
    "import os\n",
    "import PIL\n",
    "import pickle\n",
    "import math\n",
    "from PIL import Image\n",
    "from mpl_toolkits.axes_grid1 import ImageGrid\n",
    "import cv2 as cv\n",
    "import numpy as np\n",
    "import matplotlib.pyplot as plt\n",
    "PIL.Image.MAX_IMAGE_PIXELS = 268435460"
   ]
  },
  {
   "cell_type": "code",
   "execution_count": 4,
   "metadata": {
    "pycharm": {
     "name": "#%%\n"
    }
   },
   "outputs": [],
   "source": [
    "for pickled_metric in snakemake.input[\"metrics\"]:\n",
    "    with open(pickled_metric, 'rb') as handle:\n",
    "        metric_dict = pickle.load(handle)\n",
    "        for key, value in metric_dict.items():\n",
    "            #print (\"{:<10} {:<10}\".format(key, value))\n",
    "            print (f\"{key}: {value}\")\n",
    "        print()"
   ]
  },
  {
   "cell_type": "code",
   "execution_count": 7,
   "metadata": {
    "pycharm": {
     "name": "#%%\n"
    }
   },
   "outputs": [],
   "source": [
    "image_locs = snakemake.input[\"images\"]\n",
    "nrows = math.ceil(len(image_locs)/3)\n",
    "fig = plt.figure(figsize=(14, 14), dpi=100)\n",
    "grid = ImageGrid(fig, 111,  # similar to subplot(111)\n",
    "                 nrows_ncols=(nrows, 3),  # creates 2x2 grid of axes\n",
    "                 axes_pad=(0.2, 0.3),  # pad between axes in inch.\n",
    "                 )\n",
    "\n",
    "for axis in grid:\n",
    "    axis.axis('off')\n",
    "\n",
    "for axis, file_name in zip(grid, image_locs):\n",
    "    img = Image.open(file_name, 'r')\n",
    "    axis.imshow(img)\n",
    "    axis.set_title(os.path.basename(file_name), fontsize=8)"
   ]
  }
 ],
 "metadata": {
  "kernelspec": {
   "display_name": "Python 3 (ipykernel)",
   "language": "python",
   "name": "python3"
  },
  "language_info": {
   "codemirror_mode": {
    "name": "ipython",
    "version": 3
   },
   "file_extension": ".py",
   "mimetype": "text/x-python",
   "name": "python",
   "nbconvert_exporter": "python",
   "pygments_lexer": "ipython3",
   "version": "3.9.1"
  }
 },
 "nbformat": 4,
 "nbformat_minor": 1
}