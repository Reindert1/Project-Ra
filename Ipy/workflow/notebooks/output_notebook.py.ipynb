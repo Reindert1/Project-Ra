{
 "cells": [
  {
   "cell_type": "code",
   "execution_count": 2,
   "metadata": {},
   "outputs": [],
   "source": [
    "import os\n",
    "import PIL\n",
    "import pickle\n",
    "import math\n",
    "from PIL import Image\n",
    "from mpl_toolkits.axes_grid1 import ImageGrid\n",
    "import cv2 as cv\n",
    "import numpy as np\n",
    "import matplotlib.pyplot as plt\n",
    "PIL.Image.MAX_IMAGE_PIXELS = 268435460"
   ]
  },
  {
   "cell_type": "code",
   "execution_count": 3,
   "metadata": {},
   "outputs": [],
   "source": [
    "for pickled_metric in snakemake.input[\"metrics\"]:\n",
    "    with open(pickled_metric, 'rb') as handle:\n",
    "        metric_dict = pickle.load(handle)\n",
    "        for key, value in metric_dict.items():\n",
    "            print (\"{:<10} {:<10}\".format(key, value))\n",
    "        print()"
   ]
  },
  {
   "cell_type": "code",
   "execution_count": 14,
   "metadata": {},
   "outputs": [],
   "source": [
    "image_locs = snakemake.input[\"images\"]\n",
    "nrows = math.ceil(len(image_locs)/2)\n",
    "fig = plt.figure(figsize=(12, 12), dpi=100)\n",
    "grid = ImageGrid(fig, 111,  # similar to subplot(111)\n",
    "                 nrows_ncols=(nrows, 2),  # creates 2x2 grid of axes\n",
    "                 axes_pad=(0.3, 0.3),  # pad between axes in inch.\n",
    "                 )\n",
    "\n",
    "for axis, file_name in zip(grid, image_locs):\n",
    "#     ax.imshow(im)\n",
    "#     plt.title(os.path.basename(file_name))\n",
    "    img = Image.open(file_name, 'r')\n",
    "    axis.imshow(img)\n",
    "    axis.set_title(os.path.basename(file_name), fontsize=8)\n",
    "    axis.axis('off')\n",
    "\n",
    "#fig.tight_layout()\n",
    "\n",
    "# for file_name in image_locs:\n",
    "#     plt.figure()\n",
    "#     plt.title(os.path.basename(file_name))\n",
    "#     img = Image.open(file_name, 'r')\n",
    "#     plt.imshow(img)"
   ]
  },
  {
   "cell_type": "code",
   "execution_count": null,
   "metadata": {
    "pycharm": {
     "name": "#%%\n"
    }
   },
   "outputs": [],
   "source": [
    "from IPython.display import Image\n",
    "import ipyplot\n",
    "\n",
    "from IPython.display import display\n",
    "\n",
    "img1 = Image.open('image.tif', 'r')\n",
    "display(img1)\n",
    "for file_name in snakemake.input:\n",
    "    img1 = Image.open(file_name, 'r')\n",
    "    display(img1)\n",
    "    #ipyplot.plot_images(file_name)\n"
   ]
  },
  {
   "cell_type": "code",
   "execution_count": 10,
   "metadata": {},
   "outputs": [],
   "source": [
    "from IPython.display import Image\n",
    "import ipyplot\n",
    "\n",
    "from IPython.display import display\n",
    "\n",
    "img1 = Image.open('image.tif', 'r')\n",
    "display(img1)\n",
    "for file_name in snakemake.input:\n",
    "    img1 = Image.open(file_name, 'r')\n",
    "    display(img1)\n",
    "    #ipyplot.plot_images(file_name)\n"
   ]
  }
 ],
 "metadata": {
  "kernelspec": {
   "display_name": "Python 3 (ipykernel)",
   "language": "python",
   "name": "python3"
  },
  "language_info": {
   "codemirror_mode": {
    "name": "ipython",
    "version": 3
   },
   "file_extension": ".py",
   "mimetype": "text/x-python",
   "name": "python",
   "nbconvert_exporter": "python",
   "pygments_lexer": "ipython3",
   "version": "3.9.1"
  }
 },
 "nbformat": 4,
 "nbformat_minor": 1
}
